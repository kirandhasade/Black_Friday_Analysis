{
 "cells": [
  {
   "cell_type": "markdown",
   "id": "abbabb30",
   "metadata": {},
   "source": [
    "# Black Friday"
   ]
  },
  {
   "cell_type": "markdown",
   "id": "33519eea",
   "metadata": {},
   "source": [
    "## Project Objective\n",
    "- A retail company “ABC Private Limited” wants to understand the customer purchase behaviour (specifically, purchase amount) against various products of different categories. They have shared purchase summaries of various customers for selected high-volume products from last month.\n",
    "- The objective is to clean, prepare and analyse the Black friday Sales dataset taken from Analytics Vidhya.\n",
    "- We have to analyze and the sales of an product in the retail store based on age, gender, marital status, occupation of the dataset. \n",
    "\n",
    "\n",
    "- Using Black Friday sales dataset we will try to find out following questions answer.\n",
    " 1. Which age group has purchased more number of products?\n",
    " 2. Which product category has been sold most?\n",
    " 3. Which city_category has more purchases? \n",
    " 4. What will be the purchases with respect to staying in current city?\n",
    " \n",
    " ### Analysis Involve Phases:\n",
    "  1. Data Collection\n",
    "  2. Data Understanding\n",
    "  3. Data Cleaning \n",
    "  4. Data Analyse"
   ]
  },
  {
   "cell_type": "code",
   "execution_count": 1,
   "id": "d8488d4f",
   "metadata": {},
   "outputs": [],
   "source": [
    "## Importing Basic Libraries\n",
    "\n",
    "import pandas as pd\n",
    "import numpy as np\n",
    "import matplotlib.pyplot as plt\n",
    "import seaborn as sns\n",
    "import matplotlib.pylab as plt\n",
    "from matplotlib.backends.backend_agg import FigureCanvasAgg as FigureCanvas\n",
    "%matplotlib inline"
   ]
  },
  {
   "cell_type": "code",
   "execution_count": 2,
   "id": "9ce7acab",
   "metadata": {},
   "outputs": [],
   "source": [
    "pd.set_option('display.max_rows', 530)"
   ]
  },
  {
   "cell_type": "markdown",
   "id": "96c91a75",
   "metadata": {},
   "source": [
    "### Phase 1: Data Collection"
   ]
  },
  {
   "cell_type": "markdown",
   "id": "1866e81e",
   "metadata": {},
   "source": [
    "#### Dataset information:\n",
    "- The dataset used in this analysis contains information of transactions in a store on Black Friday, including customers' demographical features (age, gender, marital status, city type, stay in the current city), product details (productid and product category) and transaction details also total purchase amount from last month.\n",
    "- The dataset comes from a competition hosted by Analytics Vidhya.\n",
    "- The dataset has 783667 rows and 12 columns."
   ]
  },
  {
   "cell_type": "code",
   "execution_count": 3,
   "id": "2fcf1035",
   "metadata": {},
   "outputs": [],
   "source": [
    "final_df=pd.read_csv('Black_Friday.csv')"
   ]
  },
  {
   "cell_type": "markdown",
   "id": "0492d220",
   "metadata": {},
   "source": [
    "### Phase 2: Data Understanding"
   ]
  },
  {
   "cell_type": "code",
   "execution_count": 97,
   "id": "ec0c5703",
   "metadata": {},
   "outputs": [
    {
     "data": {
      "text/plain": [
       "(783667, 12)"
      ]
     },
     "execution_count": 97,
     "metadata": {},
     "output_type": "execute_result"
    }
   ],
   "source": [
    "final_df.shape"
   ]
  },
  {
   "cell_type": "code",
   "execution_count": 98,
   "id": "8e630a2c",
   "metadata": {},
   "outputs": [
    {
     "data": {
      "text/plain": [
       "Index(['User_ID', 'Product_ID', 'Gender', 'Age', 'Occupation', 'City_Category',\n",
       "       'Stay_In_Current_City_Years', 'Marital_Status', 'Product_Category_1',\n",
       "       'Product_Category_2', 'Product_Category_3', 'Purchase'],\n",
       "      dtype='object')"
      ]
     },
     "execution_count": 98,
     "metadata": {},
     "output_type": "execute_result"
    }
   ],
   "source": [
    "final_df.columns"
   ]
  },
  {
   "cell_type": "code",
   "execution_count": 7,
   "id": "c0863f45",
   "metadata": {},
   "outputs": [],
   "source": [
    "final_df = final_df.rename(columns={'User_ID':'user_id', \n",
    "                         'Product_ID': 'product_id', \n",
    "                         'Gender': 'gender', \n",
    "                         'Age': 'age', \n",
    "                         'Occupation': 'occupation',\n",
    "                         'City_Category': 'city_category', \n",
    "                         'Stay_In_Current_City_Years': 'stay_in_current_city_years', \n",
    "                         'Marital_Status':'marital_status', \n",
    "                         'Product_Category_1': 'product_category_1', \n",
    "                         'Product_Category_2': 'product_category_2',\n",
    "                         'Product_Category_3': 'product_category_3',\n",
    "                         'Purchase':'purchase'\n",
    "                         })"
   ]
  },
  {
   "cell_type": "code",
   "execution_count": 69,
   "id": "0c2128d8",
   "metadata": {},
   "outputs": [
    {
     "data": {
      "text/plain": [
       "user_id                            0\n",
       "product_id                         0\n",
       "gender                             0\n",
       "age                                0\n",
       "occupation                         0\n",
       "city_category                      0\n",
       "stay_in_current_city_years         0\n",
       "marital_status                     0\n",
       "product_category_1                 0\n",
       "product_category_2            245982\n",
       "product_category_3            545809\n",
       "purchase                      233599\n",
       "dtype: int64"
      ]
     },
     "execution_count": 69,
     "metadata": {},
     "output_type": "execute_result"
    }
   ],
   "source": [
    "final_df.isnull().sum()"
   ]
  },
  {
   "cell_type": "code",
   "execution_count": 70,
   "id": "f209cfa2",
   "metadata": {},
   "outputs": [
    {
     "name": "stdout",
     "output_type": "stream",
     "text": [
      "<class 'pandas.core.frame.DataFrame'>\n",
      "RangeIndex: 783667 entries, 0 to 783666\n",
      "Data columns (total 12 columns):\n",
      " #   Column                      Non-Null Count   Dtype  \n",
      "---  ------                      --------------   -----  \n",
      " 0   user_id                     783667 non-null  int64  \n",
      " 1   product_id                  783667 non-null  object \n",
      " 2   gender                      783667 non-null  object \n",
      " 3   age                         783667 non-null  object \n",
      " 4   occupation                  783667 non-null  int64  \n",
      " 5   city_category               783667 non-null  object \n",
      " 6   stay_in_current_city_years  783667 non-null  object \n",
      " 7   marital_status              783667 non-null  int64  \n",
      " 8   product_category_1          783667 non-null  int64  \n",
      " 9   product_category_2          537685 non-null  float64\n",
      " 10  product_category_3          237858 non-null  float64\n",
      " 11  purchase                    550068 non-null  float64\n",
      "dtypes: float64(3), int64(4), object(5)\n",
      "memory usage: 71.7+ MB\n"
     ]
    }
   ],
   "source": [
    "final_df.info()"
   ]
  },
  {
   "cell_type": "markdown",
   "id": "204b22d7",
   "metadata": {},
   "source": [
    "### Observation\n",
    "\n",
    "  1. user_id\n",
    "  - Represents unique_id of the customer.\n",
    "  - It is of int datatype.\n",
    "  \n",
    "  2. product_id\n",
    "  - Represents unique_id of the product.\n",
    "  - It is of Object data type.\n",
    "  \n",
    "  3. gender\n",
    "  - Reprsents Sex of the customer.\n",
    "  - It is of object datatype.\n",
    "  - It is categorical type variable.\n",
    "  \n",
    "  4. age\n",
    "  - Represents Age of the customer.\n",
    "  - It is of Object datatype.\n",
    "  - It is categorical type variable. \n",
    "   \n",
    "  5. occupation\n",
    "  - Represents Occupation code of teh customer.\n",
    "  - It is of int datatype.\n",
    "  - It is categorical type variable. \n",
    "  \n",
    "  \n",
    "  6. city_category\n",
    "  - Represents city of the customer where he is residing.\n",
    "  - It is of object datatype.\n",
    "  - It is categorical type variable. \n",
    "  \n",
    "  7. stay_in_current_city_years\n",
    "  - Represents number of years of stay in city in years.\n",
    "  - It is of object datatype.\n",
    "  \n",
    "  8. martial_status\n",
    "  - Represents maritial status of customer.\n",
    "  - It is of object datatype.\n",
    "  \n",
    "  9. product_category_1\n",
    "  - Represents category of product.\n",
    "  - It is of int datatype.\n",
    " \n",
    "  10. product_category_2\n",
    "  - Represents category of product.\n",
    "  - It has 245982 null values.\n",
    "  - It is of float datatype.\n",
    "  \n",
    "  11. product_category_3\n",
    "  - Represents category of product.\n",
    "  - It has 545809 null values.\n",
    "  - It is of float datatype.\n",
    "  \n",
    "  12. purchase\n",
    "  - Represents purchasing amount of the customer.\n",
    "  - It has 233599 null values.\n",
    "  - It is of float datatype."
   ]
  },
  {
   "cell_type": "markdown",
   "id": "0b0d33fa",
   "metadata": {},
   "source": [
    "### Phase 3: Data Cleaning and Handling Null Values"
   ]
  },
  {
   "cell_type": "code",
   "execution_count": 12,
   "id": "0f80ade1",
   "metadata": {},
   "outputs": [],
   "source": [
    "def data_cleaning(dataframe):\n",
    "    ## As we are not doing analysis based on each user hence, deleting user_id column.\n",
    "    dataframe.drop(['user_id'],axis=1,inplace=True)\n",
    "    \n",
    "    #Handling the categorical feature Gender column\n",
    "    dataframe['gender']=final_df['gender'].map({'F':0,'M':1})\n",
    "\n",
    "    # Age column have age range values, using map function giving ranks with respect to age range for example 0-17 is 1 , 18-25 is 2 and so on.\n",
    "    dataframe['age']=dataframe['age'].map({'0-17':1,'18-25':2,'26-35':3,'36-45':4,'46-50':5,'51-55':6,'55+':7})\n",
    "\n",
    "    # To handle 'Stay_In_Current_City_Years' column.We will replace 4+ with 4 years in Stay_in_current_city_years column\n",
    "    dataframe['stay_in_current_city_years']=dataframe['stay_in_current_city_years'].str.replace(\"+\",\" \")\n",
    "\n",
    "    # We have to convert df['Stay_In_Current_City_Years'] column object to integer.\n",
    "    dataframe['stay_in_current_city_years']=dataframe['stay_in_current_city_years'].astype(int)\n",
    "\n",
    "    ## converting categories into numeric i.e replacing each city category by 0 for B, 1 for C, and B = 0 C = 1 means category A, hence removing 1 column.\n",
    "    df_city = pd.get_dummies(dataframe['city_category'],drop_first=True)\n",
    "\n",
    "    # Merging column B and column C with dataframe\n",
    "    dataframe = pd.concat([dataframe, df_city], axis = 1)\n",
    "\n",
    "   # converting B and C column in integer\n",
    "    dataframe['B']=final_df['B'].astype(int)\n",
    "    dataframe['C']=final_df['C'].astype(int)\n",
    "\n",
    "   # Dropping city_category column as we have conveted it into numerical value\n",
    "    dataframe.drop('city_category',axis=1,inplace=True)\n"
   ]
  },
  {
   "cell_type": "markdown",
   "id": "8d676152",
   "metadata": {},
   "source": [
    "### Handling Null Values"
   ]
  },
  {
   "cell_type": "code",
   "execution_count": 31,
   "id": "5da10d83",
   "metadata": {},
   "outputs": [],
   "source": [
    "def handling_null_values(dataframe):\n",
    "\n",
    "    factors=['product_category_1','product_category_2','product_category_3','purchase']\n",
    "    test = pd.DataFrame()\n",
    "    test['product_id'] = final_df['product_id'].unique()\n",
    "    test['product_category_1'] = final_df.groupby('product_id')['product_category_1'].apply(lambda x: np.unique(x)).reset_index()['product_category_1']\n",
    "    test['product_category_2'] = final_df.groupby('product_id')['product_category_2'].apply(lambda x: np.unique(x)).reset_index()['product_category_2'] \n",
    "    test['product_category_3'] = final_df.groupby('product_id')['product_category_3'].apply(lambda x: np.unique(x)).reset_index()['product_category_3'] \n",
    "    test\n",
    " \n",
    " #  As shown in below figure i tried to find out for each product_id's how many values corresponding are in  product_category_1, \n",
    " # product_category_2 and product_category_3.\n",
    " \n",
    " # I found that for each particular product_id we are not able to find corresponding values for null's in product_category_2 , \n",
    " # product_category_3 hence why we are replacing it with zero.\n",
    "\n",
    " # Replacing null values with zero in product_category_2 column\n",
    "    final_df['product_category_2'] = final_df['product_category_2'].fillna(0)\n",
    "    \n",
    " # Replacing null values with zero in product_category_3 column\n",
    "    final_df['product_category_3'] = final_df['product_category_3'].fillna(0)\n",
    "    \n",
    " # To handle purchase column null values and fill it with mean\n",
    "    final_df['purchase'] = final_df['purchase'].fillna(final_df.groupby('product_id')['purchase'].transform('mean'))\n",
    "    \n",
    " # After replacing purchase column with mean we found that there are 61 null values still present in purchase column.\n",
    " # I tried to find out which product id is associated with null values.   \n",
    " # final_df[final_df.purchase.isnull()].product_id.unique()   \n",
    " \n",
    " # I checked for one of the product_id.\n",
    " # final_df[final_df.product_id.isin(['P00061642'])]\n",
    " \n",
    " # As there is no rows in dataset to compute mean as their corresponding purchase column contains null values.\n",
    " # Hence for now we are deleting those records.\n",
    " \n",
    " # Alternatively in real world scenarios we might ask accounts team to check the records and give information on purchase column and replace it with correct records."
   ]
  },
  {
   "cell_type": "markdown",
   "id": "2a87191b",
   "metadata": {},
   "source": [
    "#### Dropping Null Columns"
   ]
  },
  {
   "cell_type": "code",
   "execution_count": 35,
   "id": "b7633d72",
   "metadata": {},
   "outputs": [],
   "source": [
    "def dropping_purchase_null_values(dataframe):\n",
    "\n",
    "  # To see the records for null values\n",
    "    bool_series = pd.isnull(final_df[\"purchase\"]) \n",
    "    final_df[bool_series]\n",
    "   \n",
    "    dataframe.drop(550098,axis=0,inplace=True)\n",
    "    dataframe.drop(553732,axis=0,inplace=True)\n",
    "    dataframe.drop(557536,axis=0,inplace=True)\n",
    "    dataframe.drop(558854,axis=0,inplace=True)\n",
    "    dataframe.drop(563534,axis=0,inplace=True)\n",
    "    dataframe.drop(570711,axis=0,inplace=True)\n",
    "    dataframe.drop(578780,axis=0,inplace=True)\n",
    "    dataframe.drop(580779,axis=0,inplace=True)\n",
    "    dataframe.drop(580780,axis=0,inplace=True)\n",
    "    dataframe.drop(581319,axis=0,inplace=True)\n",
    "    dataframe.drop(583572,axis=0,inplace=True)\n",
    "    dataframe.drop(586816,axis=0,inplace=True)\n",
    "    dataframe.drop(592056,axis=0,inplace=True)\n",
    "    dataframe.drop(597871,axis=0,inplace=True)\n",
    "    dataframe.drop(599368,axis=0,inplace=True)\n",
    "    dataframe.drop(607606,axis=0,inplace=True)\n",
    "    dataframe.drop(608477,axis=0,inplace=True)\n",
    "    dataframe.drop(612138,axis=0,inplace=True)\n",
    "    dataframe.drop(612299,axis=0,inplace=True)\n",
    "    dataframe.drop(613016,axis=0,inplace=True)\n",
    "    dataframe.drop(622966,axis=0,inplace=True)\n",
    "    dataframe.drop(623275,axis=0,inplace=True)\n",
    "    dataframe.drop(625077,axis=0,inplace=True)\n",
    "    dataframe.drop(625101,axis=0,inplace=True)\n",
    "    dataframe.drop(625103,axis=0,inplace=True)\n",
    "    dataframe.drop(632108,axis=0,inplace=True)\n",
    "    dataframe.drop(632126,axis=0,inplace=True)\n",
    "    dataframe.drop(682172,axis=0,inplace=True)\n",
    "    dataframe.drop(695071,axis=0,inplace=True)\n",
    "    dataframe.drop(702997,axis=0,inplace=True)\n",
    "    dataframe.drop(703124,axis=0,inplace=True)\n",
    "    dataframe.drop(716445,axis=0,inplace=True)\n",
    "    dataframe.drop(719346,axis=0,inplace=True)\n",
    "    dataframe.drop(721542,axis=0,inplace=True)\n",
    "    dataframe.drop(722504,axis=0,inplace=True)\n",
    "    dataframe.drop(724354,axis=0,inplace=True)\n",
    "    dataframe.drop(730477,axis=0,inplace=True)\n",
    "    dataframe.drop(732280,axis=0,inplace=True)\n",
    "    dataframe.drop(734115,axis=0,inplace=True)\n",
    "    dataframe.drop(745698,axis=0,inplace=True)\n",
    "    dataframe.drop(749086,axis=0,inplace=True)\n",
    "    dataframe.drop(749529,axis=0,inplace=True)\n",
    "    dataframe.drop(750790,axis=0,inplace=True)\n",
    "    dataframe.drop(757203,axis=0,inplace=True)\n",
    "    dataframe.drop(761556,axis=0,inplace=True)\n",
    "    dataframe.drop(763731,axis=0,inplace=True)\n",
    "    dataframe.drop(763895,axis=0,inplace=True)\n",
    "    dataframe.drop(764068,axis=0,inplace=True)\n",
    "    dataframe.drop(766439,axis=0,inplace=True)\n",
    "    dataframe.drop(775369,axis=0,inplace=True)\n",
    "    dataframe.drop(780737,axis=0,inplace=True)\n",
    "    dataframe.drop(780870,axis=0,inplace=True)\n",
    "    dataframe.drop(781903,axis=0,inplace=True)\n",
    "    "
   ]
  },
  {
   "cell_type": "markdown",
   "id": "b898b6bd",
   "metadata": {},
   "source": [
    "### Data Analysis"
   ]
  },
  {
   "cell_type": "markdown",
   "id": "40f04454",
   "metadata": {},
   "source": [
    "#### Q.1 Which age group has purchased more number of products?"
   ]
  },
  {
   "cell_type": "code",
   "execution_count": 23,
   "id": "11aa3d85",
   "metadata": {},
   "outputs": [
    {
     "data": {
      "text/plain": [
       "<AxesSubplot:xlabel='age', ylabel='purchase'>"
      ]
     },
     "execution_count": 23,
     "metadata": {},
     "output_type": "execute_result"
    },
    {
     "data": {
      "image/png": "[encoded data removed]",
      "text/plain": [
       "<Figure size 720x360 with 1 Axes>"
      ]
     },
     "metadata": {
      "needs_background": "light"
     },
     "output_type": "display_data"
    }
   ],
   "source": [
    "# Visulaisation Age vs Purchase Analysis\n",
    "plt.figure(figsize=(10,5))\n",
    "sns.barplot(x='age',y='purchase', hue='gender', data=final_df)"
   ]
  },
  {
   "cell_type": "markdown",
   "id": "1d95dd17",
   "metadata": {},
   "source": [
    "### Observation:\n",
    "- 1. Age and Purchase graph has a uniform distribution.\n",
    "- 2. Purchasing of men is slightly more in age-group 51-55."
   ]
  },
  {
   "cell_type": "markdown",
   "id": "4717e4b1",
   "metadata": {},
   "source": [
    "#### Q.2 Which product category has been sold most?"
   ]
  },
  {
   "cell_type": "code",
   "execution_count": 24,
   "id": "70a43db8",
   "metadata": {},
   "outputs": [
    {
     "name": "stderr",
     "output_type": "stream",
     "text": [
      "/Users/ganesh_dhasade/opt/anaconda3/lib/python3.8/site-packages/seaborn/_decorators.py:36: FutureWarning: Pass the following variables as keyword args: x, y. From version 0.12, the only valid positional argument will be `data`, and passing other arguments without an explicit keyword will result in an error or misinterpretation.\n",
      "  warnings.warn(\n"
     ]
    },
    {
     "data": {
      "text/plain": [
       "<AxesSubplot:xlabel='product_category_1', ylabel='purchase'>"
      ]
     },
     "execution_count": 24,
     "metadata": {},
     "output_type": "execute_result"
    },
    {
     "data": {
      "image/png": "[encoded data removed]",
      "text/plain": [
       "<Figure size 720x360 with 1 Axes>"
      ]
     },
     "metadata": {
      "needs_background": "light"
     },
     "output_type": "display_data"
    }
   ],
   "source": [
    "# Visualisation of Product_categories Vs Purchse\n",
    "plt.figure(figsize=(10,5))\n",
    "sns.barplot('product_category_1','purchase', hue='gender', data=final_df)"
   ]
  },
  {
   "cell_type": "code",
   "execution_count": 25,
   "id": "b1a6cbf1",
   "metadata": {},
   "outputs": [
    {
     "name": "stderr",
     "output_type": "stream",
     "text": [
      "/Users/ganesh_dhasade/opt/anaconda3/lib/python3.8/site-packages/seaborn/_decorators.py:36: FutureWarning: Pass the following variables as keyword args: x, y. From version 0.12, the only valid positional argument will be `data`, and passing other arguments without an explicit keyword will result in an error or misinterpretation.\n",
      "  warnings.warn(\n"
     ]
    },
    {
     "data": {
      "text/plain": [
       "<AxesSubplot:xlabel='product_category_2', ylabel='purchase'>"
      ]
     },
     "execution_count": 25,
     "metadata": {},
     "output_type": "execute_result"
    },
    {
     "data": {
      "image/png": "[encoded data removed]",
      "text/plain": [
       "<Figure size 720x360 with 1 Axes>"
      ]
     },
     "metadata": {
      "needs_background": "light"
     },
     "output_type": "display_data"
    }
   ],
   "source": [
    "plt.figure(figsize=(10,5))\n",
    "sns.barplot('product_category_2','purchase', hue='gender', data=final_df)"
   ]
  },
  {
   "cell_type": "code",
   "execution_count": 26,
   "id": "0ecaf74b",
   "metadata": {},
   "outputs": [
    {
     "name": "stderr",
     "output_type": "stream",
     "text": [
      "/Users/ganesh_dhasade/opt/anaconda3/lib/python3.8/site-packages/seaborn/_decorators.py:36: FutureWarning: Pass the following variables as keyword args: x, y. From version 0.12, the only valid positional argument will be `data`, and passing other arguments without an explicit keyword will result in an error or misinterpretation.\n",
      "  warnings.warn(\n"
     ]
    },
    {
     "data": {
      "text/plain": [
       "<AxesSubplot:xlabel='product_category_3', ylabel='purchase'>"
      ]
     },
     "execution_count": 26,
     "metadata": {},
     "output_type": "execute_result"
    },
    {
     "data": {
      "image/png": "[encoded data removed]",
      "text/plain": [
       "<Figure size 720x360 with 1 Axes>"
      ]
     },
     "metadata": {
      "needs_background": "light"
     },
     "output_type": "display_data"
    }
   ],
   "source": [
    "plt.figure(figsize=(10,5))\n",
    "sns.barplot('product_category_3','purchase', hue='gender', data=final_df)"
   ]
  },
  {
   "cell_type": "markdown",
   "id": "48730fd6",
   "metadata": {},
   "source": [
    "### Observation: \n",
    "- product_category_1 has been purchased more than product_category_2 and product_category_3."
   ]
  },
  {
   "cell_type": "markdown",
   "id": "7a582c79",
   "metadata": {},
   "source": [
    "#### Q.3 Which city_category has more purchases? "
   ]
  },
  {
   "cell_type": "code",
   "execution_count": 30,
   "id": "e02dd4cd",
   "metadata": {},
   "outputs": [
    {
     "name": "stderr",
     "output_type": "stream",
     "text": [
      "/Users/ganesh_dhasade/opt/anaconda3/lib/python3.8/site-packages/seaborn/_decorators.py:36: FutureWarning: Pass the following variable as a keyword arg: x. From version 0.12, the only valid positional argument will be `data`, and passing other arguments without an explicit keyword will result in an error or misinterpretation.\n",
      "  warnings.warn(\n"
     ]
    },
    {
     "data": {
      "text/plain": [
       "<AxesSubplot:xlabel='city_category', ylabel='count'>"
      ]
     },
     "execution_count": 30,
     "metadata": {},
     "output_type": "execute_result"
    },
    {
     "data": {
      "image/png": "[encoded data removed]",
      "text/plain": [
       "<Figure size 720x360 with 1 Axes>"
      ]
     },
     "metadata": {
      "needs_background": "light"
     },
     "output_type": "display_data"
    }
   ],
   "source": [
    "plt.figure(figsize=(10,5))\n",
    "sns.countplot(final_df['city_category'])"
   ]
  },
  {
   "cell_type": "markdown",
   "id": "a8903be2",
   "metadata": {},
   "source": [
    "### Observation:\n",
    " - B city_category has more number of counts hence it might represents the urban area where most of the population resides."
   ]
  },
  {
   "cell_type": "markdown",
   "id": "bd4d1fa3",
   "metadata": {},
   "source": [
    "#### Q.4 What will be the purchases with respect to staying in current city?"
   ]
  },
  {
   "cell_type": "code",
   "execution_count": 31,
   "id": "d4835140",
   "metadata": {},
   "outputs": [
    {
     "name": "stderr",
     "output_type": "stream",
     "text": [
      "/Users/ganesh_dhasade/opt/anaconda3/lib/python3.8/site-packages/seaborn/_decorators.py:36: FutureWarning: Pass the following variable as a keyword arg: x. From version 0.12, the only valid positional argument will be `data`, and passing other arguments without an explicit keyword will result in an error or misinterpretation.\n",
      "  warnings.warn(\n"
     ]
    },
    {
     "data": {
      "text/plain": [
       "<AxesSubplot:xlabel='stay_in_current_city_years', ylabel='count'>"
      ]
     },
     "execution_count": 31,
     "metadata": {},
     "output_type": "execute_result"
    },
    {
     "data": {
      "image/png": "[encoded data removed]",
      "text/plain": [
       "<Figure size 720x360 with 1 Axes>"
      ]
     },
     "metadata": {
      "needs_background": "light"
     },
     "output_type": "display_data"
    }
   ],
   "source": [
    "plt.figure(figsize=(10,5))\n",
    "sns.countplot(final_df.stay_in_current_city_years)"
   ]
  },
  {
   "cell_type": "markdown",
   "id": "9c7d166b",
   "metadata": {},
   "source": [
    "### Observation:\n",
    "- The tendency looks like the longest someone is living in that city the less prone they are to buy new things.\n",
    "- Hence, if someone is new in town and needs a great number of new things for their house that they’ll take advantage of the low prices in Black Friday to purchase all the things needed."
   ]
  },
  {
   "cell_type": "markdown",
   "id": "d34c9e17",
   "metadata": {},
   "source": [
    "### Conclusion - Results:"
   ]
  },
  {
   "cell_type": "markdown",
   "id": "208d53ff",
   "metadata": {},
   "source": [
    "#### Q.1 Which age group has purchased more number of products?\n",
    "\n",
    "- 1. Age and Purchase graph has a uniform distribution.\n",
    "- 2. Purchasing of men is slightly more in age-group 51-55."
   ]
  },
  {
   "cell_type": "markdown",
   "id": "01fa2c26",
   "metadata": {},
   "source": [
    "#### Q.2  Which product category has been sold most?\n",
    "\n",
    "- product_category_1 has been purchased more than product_category_2 and product_category_3."
   ]
  },
  {
   "cell_type": "markdown",
   "id": "d8382829",
   "metadata": {},
   "source": [
    "#### Q.3 Which city_category has more purchases? \n",
    "\n",
    " - B city_category has more number of counts hence it might represents the urban area where most of the population resides."
   ]
  },
  {
   "cell_type": "markdown",
   "id": "2de75ad4",
   "metadata": {},
   "source": [
    "#### Q.4 What will be the purchases with respect to staying in current city?\n",
    "\n",
    "- The tendency looks like the longest someone is living in that city the less prone they are to buy new things.\n",
    "- Hence, if someone is new in town and needs a great number of new things for their house that they’ll take advantage of the low prices in Black Friday to purchase all the things needed."
   ]
  }
 ],
 "metadata": {
  "kernelspec": {
   "display_name": "Python 3",
   "language": "python",
   "name": "python3"
  },
  "language_info": {
   "codemirror_mode": {
    "name": "ipython",
    "version": 3
   },
   "file_extension": ".py",
   "mimetype": "text/x-python",
   "name": "python",
   "nbconvert_exporter": "python",
   "pygments_lexer": "ipython3",
   "version": "3.8.8"
  }
 },
 "nbformat": 4,
 "nbformat_minor": 5
}
