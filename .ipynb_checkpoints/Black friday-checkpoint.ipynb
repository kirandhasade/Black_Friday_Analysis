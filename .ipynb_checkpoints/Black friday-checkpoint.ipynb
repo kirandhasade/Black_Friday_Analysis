{
 "cells": [
  {
   "cell_type": "markdown",
   "id": "abbabb30",
   "metadata": {},
   "source": [
    "# Black Friday"
   ]
  },
  {
   "cell_type": "markdown",
   "id": "33519eea",
   "metadata": {},
   "source": [
    "## Project Objective\n",
    "- A retail company “ABC Private Limited” wants to understand the customer purchase behaviour (specifically, purchase amount) against various products of different categories. They have shared purchase summaries of various customers for selected high-volume products from last month.\n",
    "- The objective is to clean, prepare and analyse the Black friday Sales dataset taken from Analytics Vidhya.\n",
    "- We have to analyze and the sales of an product in the retail store based on age, gender, marital status, occupation of the dataset. \n",
    "\n",
    "\n",
    "- Using Black Friday sales dataset we will try to find out following questions answer.\n",
    " 1. Which age group has purchased more number of products?\n",
    " 2. Which product category has been sold most?\n",
    " 3. Which city_category has more purchases? \n",
    " 4. What will be the purchases with respect to staying in current city?\n",
    " \n",
    " ### Analysis Involve Phases:\n",
    "  1. Data Collection\n",
    "  2. Data Understanding\n",
    "  3. Data Cleaning \n",
    "  4. Data Analyse"
   ]
  },
  {
   "cell_type": "code",
   "execution_count": 1,
   "id": "d8488d4f",
   "metadata": {},
   "outputs": [],
   "source": [
    "## Importing required libraries\n",
    "import pandas as pd\n",
    "import numpy as np\n",
    "import matplotlib.pyplot as plt\n",
    "import seaborn as sns\n",
    "import matplotlib.pylab as plt\n",
    "from matplotlib.backends.backend_agg import FigureCanvasAgg as FigureCanvas\n",
    "%matplotlib inline"
   ]
  },
  {
   "cell_type": "code",
   "execution_count": 2,
   "id": "9ce7acab",
   "metadata": {},
   "outputs": [],
   "source": [
    "pd.set_option('display.max_rows', 530)"
   ]
  },
  {
   "cell_type": "markdown",
   "id": "96c91a75",
   "metadata": {},
   "source": [
    "### Phase 1: Data Collection"
   ]
  },
  {
   "cell_type": "markdown",
   "id": "1866e81e",
   "metadata": {},
   "source": [
    "#### Dataset information:\n",
    "- The dataset used in this analysis contains information of transactions in a store on Black Friday, including customers' demographical features (age, gender, marital status, city type, stay in the current city), product details (productid and product category) and transaction details also total purchase amount from last month.\n",
    "- The dataset comes from a competition hosted by Analytics Vidhya.\n",
    "- The dataset has 783667 rows and 12 columns."
   ]
  },
  {
   "cell_type": "code",
   "execution_count": 3,
   "id": "2fcf1035",
   "metadata": {},
   "outputs": [],
   "source": [
    "final_df=pd.read_csv('Black_Friday.csv')"
   ]
  },
  {
   "cell_type": "markdown",
   "id": "0492d220",
   "metadata": {},
   "source": [
    "### Phase 2: Data Understanding"
   ]
  },
  {
   "cell_type": "code",
   "execution_count": 4,
   "id": "ec0c5703",
   "metadata": {},
   "outputs": [
    {
     "data": {
      "text/plain": [
       "(783667, 12)"
      ]
     },
     "execution_count": 4,
     "metadata": {},
     "output_type": "execute_result"
    }
   ],
   "source": [
    "final_df.shape"
   ]
  },
  {
   "cell_type": "code",
   "execution_count": 5,
   "id": "5ae8c12a",
   "metadata": {},
   "outputs": [
    {
     "data": {
      "text/html": [
       "<div>\n",
       "<style scoped>\n",
       "    .dataframe tbody tr th:only-of-type {\n",
       "        vertical-align: middle;\n",
       "    }\n",
       "\n",
       "    .dataframe tbody tr th {\n",
       "        vertical-align: top;\n",
       "    }\n",
       "\n",
       "    .dataframe thead th {\n",
       "        text-align: right;\n",
       "    }\n",
       "</style>\n",
       "<table border=\"1\" class=\"dataframe\">\n",
       "  <thead>\n",
       "    <tr style=\"text-align: right;\">\n",
       "      <th></th>\n",
       "      <th>User_ID</th>\n",
       "      <th>Product_ID</th>\n",
       "      <th>Gender</th>\n",
       "      <th>Age</th>\n",
       "      <th>Occupation</th>\n",
       "      <th>City_Category</th>\n",
       "      <th>Stay_In_Current_City_Years</th>\n",
       "      <th>Marital_Status</th>\n",
       "      <th>Product_Category_1</th>\n",
       "      <th>Product_Category_2</th>\n",
       "      <th>Product_Category_3</th>\n",
       "      <th>Purchase</th>\n",
       "    </tr>\n",
       "  </thead>\n",
       "  <tbody>\n",
       "    <tr>\n",
       "      <th>0</th>\n",
       "      <td>1000001</td>\n",
       "      <td>P00069042</td>\n",
       "      <td>F</td>\n",
       "      <td>0-17</td>\n",
       "      <td>10</td>\n",
       "      <td>A</td>\n",
       "      <td>2</td>\n",
       "      <td>0</td>\n",
       "      <td>3</td>\n",
       "      <td>NaN</td>\n",
       "      <td>NaN</td>\n",
       "      <td>8370.0</td>\n",
       "    </tr>\n",
       "    <tr>\n",
       "      <th>1</th>\n",
       "      <td>1000001</td>\n",
       "      <td>P00248942</td>\n",
       "      <td>F</td>\n",
       "      <td>0-17</td>\n",
       "      <td>10</td>\n",
       "      <td>A</td>\n",
       "      <td>2</td>\n",
       "      <td>0</td>\n",
       "      <td>1</td>\n",
       "      <td>6.0</td>\n",
       "      <td>14.0</td>\n",
       "      <td>15200.0</td>\n",
       "    </tr>\n",
       "  </tbody>\n",
       "</table>\n",
       "</div>"
      ],
      "text/plain": [
       "   User_ID Product_ID Gender   Age  Occupation City_Category  \\\n",
       "0  1000001  P00069042      F  0-17          10             A   \n",
       "1  1000001  P00248942      F  0-17          10             A   \n",
       "\n",
       "  Stay_In_Current_City_Years  Marital_Status  Product_Category_1  \\\n",
       "0                          2               0                   3   \n",
       "1                          2               0                   1   \n",
       "\n",
       "   Product_Category_2  Product_Category_3  Purchase  \n",
       "0                 NaN                 NaN    8370.0  \n",
       "1                 6.0                14.0   15200.0  "
      ]
     },
     "execution_count": 5,
     "metadata": {},
     "output_type": "execute_result"
    }
   ],
   "source": [
    "final_df.head(2)"
   ]
  },
  {
   "cell_type": "code",
   "execution_count": 6,
   "id": "8e630a2c",
   "metadata": {},
   "outputs": [
    {
     "data": {
      "text/plain": [
       "Index(['User_ID', 'Product_ID', 'Gender', 'Age', 'Occupation', 'City_Category',\n",
       "       'Stay_In_Current_City_Years', 'Marital_Status', 'Product_Category_1',\n",
       "       'Product_Category_2', 'Product_Category_3', 'Purchase'],\n",
       "      dtype='object')"
      ]
     },
     "execution_count": 6,
     "metadata": {},
     "output_type": "execute_result"
    }
   ],
   "source": [
    "final_df.columns"
   ]
  },
  {
   "cell_type": "code",
   "execution_count": 7,
   "id": "c0863f45",
   "metadata": {},
   "outputs": [],
   "source": [
    "final_df = final_df.rename(columns={'User_ID':'user_id', \n",
    "                         'Product_ID': 'product_id', \n",
    "                         'Gender': 'gender', \n",
    "                         'Age': 'age_group', \n",
    "                         'Occupation': 'occupation_code',\n",
    "                         'City_Category': 'city_category', \n",
    "                         'Stay_In_Current_City_Years': 'stay_in_current_city_years', \n",
    "                         'Marital_Status':'marital_status', \n",
    "                         'Product_Category_1': 'product_category_1', \n",
    "                         'Product_Category_2': 'product_category_2',\n",
    "                         'Product_Category_3': 'product_category_3',\n",
    "                         'Purchase':'purchase_amount'\n",
    "                         })"
   ]
  },
  {
   "cell_type": "code",
   "execution_count": 8,
   "id": "0c2128d8",
   "metadata": {},
   "outputs": [
    {
     "data": {
      "text/plain": [
       "user_id                            0\n",
       "product_id                         0\n",
       "gender                             0\n",
       "age_group                          0\n",
       "occupation_code                    0\n",
       "city_category                      0\n",
       "stay_in_current_city_years         0\n",
       "marital_status                     0\n",
       "product_category_1                 0\n",
       "product_category_2            245982\n",
       "product_category_3            545809\n",
       "purchase_amount               233599\n",
       "dtype: int64"
      ]
     },
     "execution_count": 8,
     "metadata": {},
     "output_type": "execute_result"
    }
   ],
   "source": [
    "final_df.isnull().sum()"
   ]
  },
  {
   "cell_type": "code",
   "execution_count": 9,
   "id": "f209cfa2",
   "metadata": {},
   "outputs": [
    {
     "name": "stdout",
     "output_type": "stream",
     "text": [
      "<class 'pandas.core.frame.DataFrame'>\n",
      "RangeIndex: 783667 entries, 0 to 783666\n",
      "Data columns (total 12 columns):\n",
      " #   Column                      Non-Null Count   Dtype  \n",
      "---  ------                      --------------   -----  \n",
      " 0   user_id                     783667 non-null  int64  \n",
      " 1   product_id                  783667 non-null  object \n",
      " 2   gender                      783667 non-null  object \n",
      " 3   age_group                   783667 non-null  object \n",
      " 4   occupation_code             783667 non-null  int64  \n",
      " 5   city_category               783667 non-null  object \n",
      " 6   stay_in_current_city_years  783667 non-null  object \n",
      " 7   marital_status              783667 non-null  int64  \n",
      " 8   product_category_1          783667 non-null  int64  \n",
      " 9   product_category_2          537685 non-null  float64\n",
      " 10  product_category_3          237858 non-null  float64\n",
      " 11  purchase_amount             550068 non-null  float64\n",
      "dtypes: float64(3), int64(4), object(5)\n",
      "memory usage: 71.7+ MB\n"
     ]
    }
   ],
   "source": [
    "final_df.info()"
   ]
  },
  {
   "cell_type": "code",
   "execution_count": 10,
   "id": "a9aebc22",
   "metadata": {},
   "outputs": [
    {
     "data": {
      "text/plain": [
       "array([ 3,  1, 12,  8,  5,  4,  2,  6, 14, 11, 13, 15,  7, 16, 18, 10, 17,\n",
       "        9, 20, 19])"
      ]
     },
     "execution_count": 10,
     "metadata": {},
     "output_type": "execute_result"
    }
   ],
   "source": [
    "final_df.product_category_1.unique()"
   ]
  },
  {
   "cell_type": "markdown",
   "id": "204b22d7",
   "metadata": {},
   "source": [
    "### Observation\n",
    "\n",
    "  1. user_id\n",
    "  - Represents unique_id of the customer.\n",
    "  \n",
    "  2. product_id\n",
    "  - Represents unique_id of the product.\n",
    "  \n",
    "  3. gender\n",
    "  - Represents gender of the customer.\n",
    "  - It contain M for Male and F for Female.\n",
    "  \n",
    "  4. age_group\n",
    "  - Represents Age group of the customers.\n",
    "  - It have 7 distinct age groups.\n",
    "  - It is categorical type variable. \n",
    "   \n",
    "  5. occupation_code\n",
    "  - Represents Occupation code of the customer.\n",
    "  - It have 21 unique occupation code.\n",
    "  \n",
    "  \n",
    "  6. city_category\n",
    "  - Represents city of the customer where he is residing.\n",
    "  - It have 3 categorical values - A, B and C\n",
    "  \n",
    "  7. stay_in_current_city_years\n",
    "  - Represents number of years customer stay in the city.\n",
    "  - It is an cateogrical column and have 5 different values.\n",
    "      - 0, 1, 2, 3 and 4+\n",
    "  \n",
    "  8. marital_status\n",
    "  - Represents maritial status of customer.\n",
    "  - It is of boolean type of column contains \n",
    "      - 0 - not married and \n",
    "      - 1 - married\n",
    "  \n",
    "  9. product_category_1\n",
    "  - It have category code of product.\n",
    " \n",
    "  10. product_category_2\n",
    "  - It have category code of product.\n",
    "  - It has 245982 null values.\n",
    "  \n",
    "  11. product_category_3\n",
    "  - It have category code of product.\n",
    "  - It has 545809 null values.\n",
    "  \n",
    "  12. purchase_amount\n",
    "  - Represents purchase amount or amount paid by the customer.\n",
    "  - It has 233599 null values."
   ]
  },
  {
   "cell_type": "markdown",
   "id": "0b0d33fa",
   "metadata": {},
   "source": [
    "### Phase 3: Data Cleaning and Handling Null Values"
   ]
  },
  {
   "cell_type": "markdown",
   "id": "88dc0023",
   "metadata": {},
   "source": [
    "#### Function defination"
   ]
  },
  {
   "cell_type": "markdown",
   "id": "e62623a9",
   "metadata": {},
   "source": [
    "#### Step 1: Delete user_id column\n",
    "- Analysis not based on each user hence, deleting user_id column.\n",
    "\n",
    "#### Step 2: Handle Categorical Columns\n",
    "- Gender:\n",
    "    - Replaced F with Female and M with Male\n",
    "\n",
    "- age_group:\n",
    "    - Replace age_group with ranks for example 0-17 is 1 , 18-25 is 2 and so on.\n",
    "    \n",
    "\n"
   ]
  },
  {
   "cell_type": "code",
   "execution_count": 11,
   "id": "0f80ade1",
   "metadata": {},
   "outputs": [],
   "source": [
    "def data_cleaning(dataframe):\n",
    "    ## Step 1 - Delete user_id column\n",
    "    dataframe = dataframe.drop(['user_id'],axis=1)\n",
    "    print(\"Drop user_is column - done\")\n",
    "    \n",
    "    ## Step 2 - Handle Categorical Columns\n",
    "    #Handling the categorical feature Gender column\n",
    "    dataframe['gender']= dataframe['gender'].map({'F':'Female','M':'Male'})\n",
    "   \n",
    "    # Age column have age range values, using map function giving ranks with respect to age range for example 0-17 is 1 , 18-25 is 2 and so on.\n",
    "    dataframe['age_group_rank'] = dataframe['age_group'].map({'0-17':1,'18-25':2,'26-35':3,'36-45':4,'46-50':5,'51-55':6,'55+':7})\n",
    "    print(\"Ranking age group column - done\")\n",
    "    \n",
    "    print(\"Function executed sucessfully\")\n",
    "\n",
    "    return dataframe"
   ]
  },
  {
   "cell_type": "markdown",
   "id": "8d676152",
   "metadata": {},
   "source": [
    "#### Handling Null Values\n",
    "\n",
    "##### Step 1: Replace null with zero in product_category 2 and 3:\n",
    "- Tried to found out for each product_id's:\n",
    "    - How many values corresponding values are in  product_category_1, product_category_2 and product_category_3.\n",
    "- Found that for each product_id:\n",
    "    - Not have corresponding values for null's in product_category_2 , product_category_3 \n",
    "- Hence replacing all nulls in product_category 2 and 3 it with zero.\n",
    "\n",
    "##### Step 2: Replace null puchase (amount) with mean with resepect to product_id:\n",
    "\n",
    "##### Step 3: After step 2 - drop rows having incomplete information - purchase_amount\n",
    "- After Step 2 - found that there are 61 rows have null values in purchase_amount column.\n",
    "    - Becasue, as there is no corrospoing rows for purchased product_id in dataset to compute mean purchase_amount.\n",
    "    - In this case, we are deleting those records/rows.\n",
    "    - In real world:\n",
    "        -  We try to get this puchase_amount null or incomplete information from accounts/sales department."
   ]
  },
  {
   "cell_type": "code",
   "execution_count": 12,
   "id": "5da10d83",
   "metadata": {},
   "outputs": [],
   "source": [
    "def handling_null_values(dataframe):\n",
    "    \n",
    "    ## Step 1: Replace null with zero in product_category 2 and 3\n",
    "    dataframe['product_category_2'] = dataframe['product_category_2'].fillna(0)\n",
    "    dataframe['product_category_3'] = dataframe['product_category_3'].fillna(0)\n",
    "    print('Step 1 - Finished')\n",
    "    \n",
    "    ## Step 2: Replace null puchase (amount) with mean with resepect to product_id.\n",
    "    dataframe['purchase_amount'] = dataframe['purchase_amount'].fillna(dataframe.groupby('product_id')['purchase_amount'].transform('mean'))\n",
    "    print('Step 2 - Finished')\n",
    "    \n",
    "    ## Step 3: After step 2 - drop rows having incomplete information - purchase (amount)\n",
    "    before_drop_no_rows = dataframe.shape[0]\n",
    "    \n",
    "    incomplete_rows_index_list =  list(dataframe[dataframe.purchase_amount.isnull()].index)\n",
    "    print(f\"Number of rows have null purchase amount {len(incomplete_rows_index_list)}\")\n",
    "    \n",
    "    for i in incomplete_rows_index_list:\n",
    "        dataframe = dataframe.drop(i,axis=0)\n",
    "    \n",
    "    after_drop_no_rows = dataframe.shape[0]\n",
    "    print(f\"Number of rows deleted from dataset are: {before_drop_no_rows - after_drop_no_rows}\")\n",
    "    \n",
    "    if len(incomplete_rows_index_list) == (before_drop_no_rows - after_drop_no_rows):\n",
    "        print('Step 3 - Finished & Function executed sucessfully')\n",
    "    else:\n",
    "        print(\"Error!! executed with error in drop rows.\")\n",
    "    \n",
    "    return dataframe\n"
   ]
  },
  {
   "cell_type": "markdown",
   "id": "fdd8f256",
   "metadata": {},
   "source": [
    "#### Code Execution"
   ]
  },
  {
   "cell_type": "code",
   "execution_count": 13,
   "id": "d86daef8",
   "metadata": {},
   "outputs": [
    {
     "name": "stdout",
     "output_type": "stream",
     "text": [
      "Drop user_is column - done\n",
      "Ranking age group column - done\n",
      "Function executed sucessfully\n"
     ]
    }
   ],
   "source": [
    "data_cleaning_df = data_cleaning(dataframe = final_df)"
   ]
  },
  {
   "cell_type": "code",
   "execution_count": 14,
   "id": "716e3b1d",
   "metadata": {},
   "outputs": [
    {
     "data": {
      "text/plain": [
       "0"
      ]
     },
     "execution_count": 14,
     "metadata": {},
     "output_type": "execute_result"
    }
   ],
   "source": [
    "data_cleaning_df.product_category_1.isnull().sum()"
   ]
  },
  {
   "cell_type": "code",
   "execution_count": 15,
   "id": "9ba1005d",
   "metadata": {},
   "outputs": [
    {
     "data": {
      "text/plain": [
       "245982"
      ]
     },
     "execution_count": 15,
     "metadata": {},
     "output_type": "execute_result"
    }
   ],
   "source": [
    "data_cleaning_df.product_category_2.isnull().sum()"
   ]
  },
  {
   "cell_type": "code",
   "execution_count": 16,
   "id": "e3029ec8",
   "metadata": {},
   "outputs": [
    {
     "data": {
      "text/plain": [
       "545809"
      ]
     },
     "execution_count": 16,
     "metadata": {},
     "output_type": "execute_result"
    }
   ],
   "source": [
    "data_cleaning_df.product_category_3.isnull().sum()"
   ]
  },
  {
   "cell_type": "code",
   "execution_count": 17,
   "id": "12143532",
   "metadata": {},
   "outputs": [
    {
     "name": "stdout",
     "output_type": "stream",
     "text": [
      "Step 1 - Finished\n",
      "Step 2 - Finished\n",
      "Number of rows have null purchase amount 61\n",
      "Number of rows deleted from dataset are: 61\n",
      "Step 3 - Finished & Function executed sucessfully\n"
     ]
    }
   ],
   "source": [
    "handle_null_values_df = handling_null_values(dataframe = data_cleaning_df)"
   ]
  },
  {
   "cell_type": "markdown",
   "id": "b898b6bd",
   "metadata": {},
   "source": [
    "### Phase 4: Data Analysis"
   ]
  },
  {
   "cell_type": "code",
   "execution_count": 132,
   "id": "d2e2c13d",
   "metadata": {},
   "outputs": [],
   "source": [
    "analysis_df = handle_null_values_df.copy()"
   ]
  },
  {
   "cell_type": "markdown",
   "id": "40f04454",
   "metadata": {},
   "source": [
    "### Q.1 Which age group has purchased more number of products?"
   ]
  },
  {
   "cell_type": "code",
   "execution_count": 133,
   "id": "2e06293a",
   "metadata": {},
   "outputs": [
    {
     "data": {
      "text/html": [
       "<div>\n",
       "<style scoped>\n",
       "    .dataframe tbody tr th:only-of-type {\n",
       "        vertical-align: middle;\n",
       "    }\n",
       "\n",
       "    .dataframe tbody tr th {\n",
       "        vertical-align: top;\n",
       "    }\n",
       "\n",
       "    .dataframe thead th {\n",
       "        text-align: right;\n",
       "    }\n",
       "</style>\n",
       "<table border=\"1\" class=\"dataframe\">\n",
       "  <thead>\n",
       "    <tr style=\"text-align: right;\">\n",
       "      <th></th>\n",
       "      <th>gender</th>\n",
       "      <th>age_group</th>\n",
       "      <th>number_of_products</th>\n",
       "    </tr>\n",
       "  </thead>\n",
       "  <tbody>\n",
       "    <tr>\n",
       "      <th>0</th>\n",
       "      <td>Female</td>\n",
       "      <td>0-17</td>\n",
       "      <td>7147</td>\n",
       "    </tr>\n",
       "    <tr>\n",
       "      <th>1</th>\n",
       "      <td>Female</td>\n",
       "      <td>18-25</td>\n",
       "      <td>35063</td>\n",
       "    </tr>\n",
       "    <tr>\n",
       "      <th>2</th>\n",
       "      <td>Female</td>\n",
       "      <td>26-35</td>\n",
       "      <td>72427</td>\n",
       "    </tr>\n",
       "    <tr>\n",
       "      <th>3</th>\n",
       "      <td>Female</td>\n",
       "      <td>36-45</td>\n",
       "      <td>38860</td>\n",
       "    </tr>\n",
       "    <tr>\n",
       "      <th>4</th>\n",
       "      <td>Female</td>\n",
       "      <td>46-50</td>\n",
       "      <td>18742</td>\n",
       "    </tr>\n",
       "    <tr>\n",
       "      <th>5</th>\n",
       "      <td>Female</td>\n",
       "      <td>51-55</td>\n",
       "      <td>14141</td>\n",
       "    </tr>\n",
       "    <tr>\n",
       "      <th>6</th>\n",
       "      <td>Female</td>\n",
       "      <td>55+</td>\n",
       "      <td>7238</td>\n",
       "    </tr>\n",
       "    <tr>\n",
       "      <th>7</th>\n",
       "      <td>Male</td>\n",
       "      <td>0-17</td>\n",
       "      <td>14183</td>\n",
       "    </tr>\n",
       "    <tr>\n",
       "      <th>8</th>\n",
       "      <td>Male</td>\n",
       "      <td>18-25</td>\n",
       "      <td>106872</td>\n",
       "    </tr>\n",
       "    <tr>\n",
       "      <th>9</th>\n",
       "      <td>Male</td>\n",
       "      <td>26-35</td>\n",
       "      <td>240571</td>\n",
       "    </tr>\n",
       "    <tr>\n",
       "      <th>10</th>\n",
       "      <td>Male</td>\n",
       "      <td>36-45</td>\n",
       "      <td>117860</td>\n",
       "    </tr>\n",
       "    <tr>\n",
       "      <th>11</th>\n",
       "      <td>Male</td>\n",
       "      <td>46-50</td>\n",
       "      <td>46528</td>\n",
       "    </tr>\n",
       "    <tr>\n",
       "      <th>12</th>\n",
       "      <td>Male</td>\n",
       "      <td>51-55</td>\n",
       "      <td>40639</td>\n",
       "    </tr>\n",
       "    <tr>\n",
       "      <th>13</th>\n",
       "      <td>Male</td>\n",
       "      <td>55+</td>\n",
       "      <td>23335</td>\n",
       "    </tr>\n",
       "  </tbody>\n",
       "</table>\n",
       "</div>"
      ],
      "text/plain": [
       "    gender age_group  number_of_products\n",
       "0   Female      0-17                7147\n",
       "1   Female     18-25               35063\n",
       "2   Female     26-35               72427\n",
       "3   Female     36-45               38860\n",
       "4   Female     46-50               18742\n",
       "5   Female     51-55               14141\n",
       "6   Female       55+                7238\n",
       "7     Male      0-17               14183\n",
       "8     Male     18-25              106872\n",
       "9     Male     26-35              240571\n",
       "10    Male     36-45              117860\n",
       "11    Male     46-50               46528\n",
       "12    Male     51-55               40639\n",
       "13    Male       55+               23335"
      ]
     },
     "execution_count": 133,
     "metadata": {},
     "output_type": "execute_result"
    }
   ],
   "source": [
    "count_purchase_products_by_gender = analysis_df.groupby(['gender','age_group'])['product_id'].count().reset_index(name='number_of_products')\n",
    "count_purchase_products_by_gender\n"
   ]
  },
  {
   "cell_type": "code",
   "execution_count": 55,
   "id": "11aa3d85",
   "metadata": {},
   "outputs": [
    {
     "data": {
      "text/plain": [
       "<AxesSubplot:xlabel='age_group', ylabel='number_of_products'>"
      ]
     },
     "execution_count": 55,
     "metadata": {},
     "output_type": "execute_result"
    },
    {
     "data": {
      "image/png": "[encoded data removed]",
      "text/plain": [
       "<Figure size 720x360 with 1 Axes>"
      ]
     },
     "metadata": {
      "needs_background": "light"
     },
     "output_type": "display_data"
    }
   ],
   "source": [
    "# Visulaisation Age vs Purchase Analysis\n",
    "plt.figure(figsize=(10,5))\n",
    "sns.barplot(x='age_group',y='number_of_products', hue='gender', data=count_purchase_products_by_gender)"
   ]
  },
  {
   "cell_type": "markdown",
   "id": "9f68507a",
   "metadata": {},
   "source": [
    "### Q.2.How many males and females in dataset and what is the ratio of each?"
   ]
  },
  {
   "cell_type": "code",
   "execution_count": 180,
   "id": "bec2638d",
   "metadata": {},
   "outputs": [
    {
     "data": {
      "text/html": [
       "<div>\n",
       "<style scoped>\n",
       "    .dataframe tbody tr th:only-of-type {\n",
       "        vertical-align: middle;\n",
       "    }\n",
       "\n",
       "    .dataframe tbody tr th {\n",
       "        vertical-align: top;\n",
       "    }\n",
       "\n",
       "    .dataframe thead th {\n",
       "        text-align: right;\n",
       "    }\n",
       "</style>\n",
       "<table border=\"1\" class=\"dataframe\">\n",
       "  <thead>\n",
       "    <tr style=\"text-align: right;\">\n",
       "      <th></th>\n",
       "      <th>index</th>\n",
       "      <th>no_customers</th>\n",
       "    </tr>\n",
       "  </thead>\n",
       "  <tbody>\n",
       "    <tr>\n",
       "      <th>0</th>\n",
       "      <td>Male</td>\n",
       "      <td>589988</td>\n",
       "    </tr>\n",
       "    <tr>\n",
       "      <th>1</th>\n",
       "      <td>Female</td>\n",
       "      <td>193618</td>\n",
       "    </tr>\n",
       "  </tbody>\n",
       "</table>\n",
       "</div>"
      ],
      "text/plain": [
       "    index  no_customers\n",
       "0    Male        589988\n",
       "1  Female        193618"
      ]
     },
     "execution_count": 180,
     "metadata": {},
     "output_type": "execute_result"
    }
   ],
   "source": [
    "count_male_female_df = analysis_df['gender'].value_counts().reset_index(name='no_customers')\n",
    "count_male_female_df"
   ]
  },
  {
   "cell_type": "code",
   "execution_count": 181,
   "id": "45ae1c1b",
   "metadata": {},
   "outputs": [
    {
     "data": {
      "image/png": "[encoded data removed]",
      "text/plain": [
       "<Figure size 432x288 with 1 Axes>"
      ]
     },
     "metadata": {},
     "output_type": "display_data"
    }
   ],
   "source": [
    "graph = plt.pie(count_male_female_df.no_customers, labels = count_male_female_df['index'],  autopct='%.0f%%')\n"
   ]
  },
  {
   "cell_type": "markdown",
   "id": "2c68b844",
   "metadata": {},
   "source": [
    "### Q.3. What is the age group of each male and females?How many males and females in each age group?"
   ]
  },
  {
   "cell_type": "code",
   "execution_count": 183,
   "id": "a0292130",
   "metadata": {},
   "outputs": [
    {
     "data": {
      "text/html": [
       "<div>\n",
       "<style scoped>\n",
       "    .dataframe tbody tr th:only-of-type {\n",
       "        vertical-align: middle;\n",
       "    }\n",
       "\n",
       "    .dataframe tbody tr th {\n",
       "        vertical-align: top;\n",
       "    }\n",
       "\n",
       "    .dataframe thead th {\n",
       "        text-align: right;\n",
       "    }\n",
       "</style>\n",
       "<table border=\"1\" class=\"dataframe\">\n",
       "  <thead>\n",
       "    <tr style=\"text-align: right;\">\n",
       "      <th></th>\n",
       "      <th>age_group</th>\n",
       "      <th>gender</th>\n",
       "      <th>count</th>\n",
       "    </tr>\n",
       "  </thead>\n",
       "  <tbody>\n",
       "    <tr>\n",
       "      <th>0</th>\n",
       "      <td>0-17</td>\n",
       "      <td>Male</td>\n",
       "      <td>14183</td>\n",
       "    </tr>\n",
       "    <tr>\n",
       "      <th>1</th>\n",
       "      <td>0-17</td>\n",
       "      <td>Female</td>\n",
       "      <td>7147</td>\n",
       "    </tr>\n",
       "    <tr>\n",
       "      <th>2</th>\n",
       "      <td>18-25</td>\n",
       "      <td>Male</td>\n",
       "      <td>106872</td>\n",
       "    </tr>\n",
       "    <tr>\n",
       "      <th>3</th>\n",
       "      <td>18-25</td>\n",
       "      <td>Female</td>\n",
       "      <td>35063</td>\n",
       "    </tr>\n",
       "    <tr>\n",
       "      <th>4</th>\n",
       "      <td>26-35</td>\n",
       "      <td>Male</td>\n",
       "      <td>240571</td>\n",
       "    </tr>\n",
       "    <tr>\n",
       "      <th>5</th>\n",
       "      <td>26-35</td>\n",
       "      <td>Female</td>\n",
       "      <td>72427</td>\n",
       "    </tr>\n",
       "    <tr>\n",
       "      <th>6</th>\n",
       "      <td>36-45</td>\n",
       "      <td>Male</td>\n",
       "      <td>117860</td>\n",
       "    </tr>\n",
       "    <tr>\n",
       "      <th>7</th>\n",
       "      <td>36-45</td>\n",
       "      <td>Female</td>\n",
       "      <td>38860</td>\n",
       "    </tr>\n",
       "    <tr>\n",
       "      <th>8</th>\n",
       "      <td>46-50</td>\n",
       "      <td>Male</td>\n",
       "      <td>46528</td>\n",
       "    </tr>\n",
       "    <tr>\n",
       "      <th>9</th>\n",
       "      <td>46-50</td>\n",
       "      <td>Female</td>\n",
       "      <td>18742</td>\n",
       "    </tr>\n",
       "    <tr>\n",
       "      <th>10</th>\n",
       "      <td>51-55</td>\n",
       "      <td>Male</td>\n",
       "      <td>40639</td>\n",
       "    </tr>\n",
       "    <tr>\n",
       "      <th>11</th>\n",
       "      <td>51-55</td>\n",
       "      <td>Female</td>\n",
       "      <td>14141</td>\n",
       "    </tr>\n",
       "    <tr>\n",
       "      <th>12</th>\n",
       "      <td>55+</td>\n",
       "      <td>Male</td>\n",
       "      <td>23335</td>\n",
       "    </tr>\n",
       "    <tr>\n",
       "      <th>13</th>\n",
       "      <td>55+</td>\n",
       "      <td>Female</td>\n",
       "      <td>7238</td>\n",
       "    </tr>\n",
       "  </tbody>\n",
       "</table>\n",
       "</div>"
      ],
      "text/plain": [
       "   age_group  gender   count\n",
       "0       0-17    Male   14183\n",
       "1       0-17  Female    7147\n",
       "2      18-25    Male  106872\n",
       "3      18-25  Female   35063\n",
       "4      26-35    Male  240571\n",
       "5      26-35  Female   72427\n",
       "6      36-45    Male  117860\n",
       "7      36-45  Female   38860\n",
       "8      46-50    Male   46528\n",
       "9      46-50  Female   18742\n",
       "10     51-55    Male   40639\n",
       "11     51-55  Female   14141\n",
       "12       55+    Male   23335\n",
       "13       55+  Female    7238"
      ]
     },
     "execution_count": 183,
     "metadata": {},
     "output_type": "execute_result"
    }
   ],
   "source": [
    "count_gender_age_df = analysis_df.groupby(['age_group']).gender.value_counts().rename_axis(['age_group','gender']).reset_index(name='count')\n",
    "count_gender_age_df\n",
    "\n"
   ]
  },
  {
   "cell_type": "code",
   "execution_count": 184,
   "id": "1944c992",
   "metadata": {},
   "outputs": [
    {
     "data": {
      "text/plain": [
       "<AxesSubplot:xlabel='age_group', ylabel='count'>"
      ]
     },
     "execution_count": 184,
     "metadata": {},
     "output_type": "execute_result"
    },
    {
     "data": {
      "image/png": "[encoded data removed]",
      "text/plain": [
       "<Figure size 720x360 with 1 Axes>"
      ]
     },
     "metadata": {
      "needs_background": "light"
     },
     "output_type": "display_data"
    }
   ],
   "source": [
    "plt.figure(figsize=(10,5))\n",
    "sns.barplot(x='age_group',y='count', hue='gender', data=count_gender_age_df)"
   ]
  },
  {
   "cell_type": "code",
   "execution_count": null,
   "id": "bb7e6bd9",
   "metadata": {},
   "outputs": [],
   "source": []
  },
  {
   "cell_type": "markdown",
   "id": "1d95dd17",
   "metadata": {},
   "source": [
    "### Observation: ---- todo update\n",
    "- 1. Age and Purchase graph has a uniform distribution.\n",
    "- 2. Purchasing of men is slightly more in age-group 51-55."
   ]
  },
  {
   "cell_type": "markdown",
   "id": "4717e4b1",
   "metadata": {},
   "source": [
    "### Q.4 Which product category has been sold most?"
   ]
  },
  {
   "cell_type": "code",
   "execution_count": 221,
   "id": "eed387cd",
   "metadata": {},
   "outputs": [],
   "source": [
    "def chart_by_category(dataframe, category_col_name):\n",
    "    dataframe = dataframe.groupby([category_col_name])['product_id'].count().reset_index(name='number_of_products')\n",
    "    dataframe = dataframe.sort_values(by='number_of_products', ascending=False)\n",
    "    plt.figure(figsize=(10,5))\n",
    "    sns.barplot(category_col_name,'number_of_products', data=dataframe, order=dataframe[category_col_name])\n",
    "\n",
    "    return"
   ]
  },
  {
   "cell_type": "code",
   "execution_count": 222,
   "id": "86e63a2f",
   "metadata": {},
   "outputs": [
    {
     "data": {
      "image/png": "[encoded data removed]",
      "text/plain": [
       "<Figure size 720x360 with 1 Axes>"
      ]
     },
     "metadata": {
      "needs_background": "light"
     },
     "output_type": "display_data"
    }
   ],
   "source": [
    "chart_by_category(dataframe = analysis_df, category_col_name = 'product_category_1')"
   ]
  },
  {
   "cell_type": "code",
   "execution_count": 223,
   "id": "ac37fef0",
   "metadata": {},
   "outputs": [
    {
     "name": "stderr",
     "output_type": "stream",
     "text": [
      "/Users/ganesh_dhasade/opt/anaconda3/lib/python3.8/site-packages/seaborn/_decorators.py:36: FutureWarning: Pass the following variables as keyword args: x, y. From version 0.12, the only valid positional argument will be `data`, and passing other arguments without an explicit keyword will result in an error or misinterpretation.\n",
      "  warnings.warn(\n"
     ]
    },
    {
     "data": {
      "image/png": "[encoded data removed]",
      "text/plain": [
       "<Figure size 720x360 with 1 Axes>"
      ]
     },
     "metadata": {
      "needs_background": "light"
     },
     "output_type": "display_data"
    }
   ],
   "source": [
    "chart_by_category(dataframe = analysis_df, category_col_name = 'product_category_2')"
   ]
  },
  {
   "cell_type": "code",
   "execution_count": 224,
   "id": "0022d084",
   "metadata": {},
   "outputs": [
    {
     "name": "stderr",
     "output_type": "stream",
     "text": [
      "/Users/ganesh_dhasade/opt/anaconda3/lib/python3.8/site-packages/seaborn/_decorators.py:36: FutureWarning: Pass the following variables as keyword args: x, y. From version 0.12, the only valid positional argument will be `data`, and passing other arguments without an explicit keyword will result in an error or misinterpretation.\n",
      "  warnings.warn(\n"
     ]
    },
    {
     "data": {
      "image/png": "[encoded data removed]",
      "text/plain": [
       "<Figure size 720x360 with 1 Axes>"
      ]
     },
     "metadata": {
      "needs_background": "light"
     },
     "output_type": "display_data"
    }
   ],
   "source": [
    "chart_by_category(dataframe = analysis_df, category_col_name = 'product_category_3')"
   ]
  },
  {
   "cell_type": "markdown",
   "id": "48730fd6",
   "metadata": {},
   "source": [
    "### Observation: \n",
    "- product_category_1 has been purchased more than product_category_2 and product_category_3."
   ]
  },
  {
   "cell_type": "markdown",
   "id": "7a582c79",
   "metadata": {},
   "source": [
    "#### Q.5 Which city_category has more purchases? "
   ]
  },
  {
   "cell_type": "code",
   "execution_count": 215,
   "id": "38fb4d2e",
   "metadata": {},
   "outputs": [
    {
     "data": {
      "text/html": [
       "<div>\n",
       "<style scoped>\n",
       "    .dataframe tbody tr th:only-of-type {\n",
       "        vertical-align: middle;\n",
       "    }\n",
       "\n",
       "    .dataframe tbody tr th {\n",
       "        vertical-align: top;\n",
       "    }\n",
       "\n",
       "    .dataframe thead th {\n",
       "        text-align: right;\n",
       "    }\n",
       "</style>\n",
       "<table border=\"1\" class=\"dataframe\">\n",
       "  <thead>\n",
       "    <tr style=\"text-align: right;\">\n",
       "      <th></th>\n",
       "      <th>index</th>\n",
       "      <th>no_customers</th>\n",
       "    </tr>\n",
       "  </thead>\n",
       "  <tbody>\n",
       "    <tr>\n",
       "      <th>0</th>\n",
       "      <td>B</td>\n",
       "      <td>329720</td>\n",
       "    </tr>\n",
       "    <tr>\n",
       "      <th>1</th>\n",
       "      <td>C</td>\n",
       "      <td>243666</td>\n",
       "    </tr>\n",
       "    <tr>\n",
       "      <th>2</th>\n",
       "      <td>A</td>\n",
       "      <td>210220</td>\n",
       "    </tr>\n",
       "  </tbody>\n",
       "</table>\n",
       "</div>"
      ],
      "text/plain": [
       "  index  no_customers\n",
       "0     B        329720\n",
       "1     C        243666\n",
       "2     A        210220"
      ]
     },
     "execution_count": 215,
     "metadata": {},
     "output_type": "execute_result"
    }
   ],
   "source": [
    "count_cust_city_cat_df = analysis_df['city_category'].value_counts().reset_index(name='no_customers')\n",
    "count_cust_city_cat_df"
   ]
  },
  {
   "cell_type": "code",
   "execution_count": 216,
   "id": "6187cccc",
   "metadata": {},
   "outputs": [
    {
     "data": {
      "image/png": "[encoded data removed]",
      "text/plain": [
       "<Figure size 432x288 with 1 Axes>"
      ]
     },
     "metadata": {},
     "output_type": "display_data"
    }
   ],
   "source": [
    "graph = plt.pie(count_cust_city_cat_df.no_customers, labels = count_male_female_df['index'],  autopct='%.0f%%')"
   ]
  },
  {
   "cell_type": "code",
   "execution_count": 226,
   "id": "e02dd4cd",
   "metadata": {},
   "outputs": [
    {
     "name": "stderr",
     "output_type": "stream",
     "text": [
      "/Users/ganesh_dhasade/opt/anaconda3/lib/python3.8/site-packages/seaborn/_decorators.py:36: FutureWarning: Pass the following variables as keyword args: x, y. From version 0.12, the only valid positional argument will be `data`, and passing other arguments without an explicit keyword will result in an error or misinterpretation.\n",
      "  warnings.warn(\n"
     ]
    },
    {
     "data": {
      "text/plain": [
       "<AxesSubplot:xlabel='index', ylabel='no_customers'>"
      ]
     },
     "execution_count": 226,
     "metadata": {},
     "output_type": "execute_result"
    },
    {
     "data": {
      "image/png": "[encoded data removed]",
      "text/plain": [
       "<Figure size 720x360 with 1 Axes>"
      ]
     },
     "metadata": {
      "needs_background": "light"
     },
     "output_type": "display_data"
    }
   ],
   "source": [
    "plt.figure(figsize=(10,5))\n",
    "sns.barplot('index','no_customers', data=count_cust_city_cat_df, order=count_cust_city_cat_df['index'])"
   ]
  },
  {
   "cell_type": "code",
   "execution_count": null,
   "id": "a3c87799",
   "metadata": {},
   "outputs": [],
   "source": []
  },
  {
   "cell_type": "markdown",
   "id": "a8903be2",
   "metadata": {},
   "source": [
    "### Observation: - todo\n",
    " - B city_category has more number of counts hence it might represents the urban area where most of the population resides."
   ]
  },
  {
   "cell_type": "markdown",
   "id": "bd4d1fa3",
   "metadata": {},
   "source": [
    "### Q.6 What will be the purchases with respect to staying in current city?"
   ]
  },
  {
   "cell_type": "code",
   "execution_count": 236,
   "id": "b9fd386c",
   "metadata": {},
   "outputs": [
    {
     "data": {
      "text/html": [
       "<div>\n",
       "<style scoped>\n",
       "    .dataframe tbody tr th:only-of-type {\n",
       "        vertical-align: middle;\n",
       "    }\n",
       "\n",
       "    .dataframe tbody tr th {\n",
       "        vertical-align: top;\n",
       "    }\n",
       "\n",
       "    .dataframe thead th {\n",
       "        text-align: right;\n",
       "    }\n",
       "</style>\n",
       "<table border=\"1\" class=\"dataframe\">\n",
       "  <thead>\n",
       "    <tr style=\"text-align: right;\">\n",
       "      <th></th>\n",
       "      <th>stay_in_current_city_years</th>\n",
       "      <th>number_of_purchases</th>\n",
       "    </tr>\n",
       "  </thead>\n",
       "  <tbody>\n",
       "    <tr>\n",
       "      <th>1</th>\n",
       "      <td>1</td>\n",
       "      <td>276398</td>\n",
       "    </tr>\n",
       "    <tr>\n",
       "      <th>2</th>\n",
       "      <td>2</td>\n",
       "      <td>145418</td>\n",
       "    </tr>\n",
       "    <tr>\n",
       "      <th>3</th>\n",
       "      <td>3</td>\n",
       "      <td>135420</td>\n",
       "    </tr>\n",
       "    <tr>\n",
       "      <th>4</th>\n",
       "      <td>4+</td>\n",
       "      <td>120661</td>\n",
       "    </tr>\n",
       "    <tr>\n",
       "      <th>0</th>\n",
       "      <td>0</td>\n",
       "      <td>105709</td>\n",
       "    </tr>\n",
       "  </tbody>\n",
       "</table>\n",
       "</div>"
      ],
      "text/plain": [
       "  stay_in_current_city_years  number_of_purchases\n",
       "1                          1               276398\n",
       "2                          2               145418\n",
       "3                          3               135420\n",
       "4                         4+               120661\n",
       "0                          0               105709"
      ]
     },
     "execution_count": 236,
     "metadata": {},
     "output_type": "execute_result"
    }
   ],
   "source": [
    "count_purchase_stay_city_df = analysis_df.groupby(['stay_in_current_city_years'])['product_id'].count().reset_index(name='number_of_purchases')\n",
    "count_purchase_stay_city_df = count_purchase_stay_city_df.sort_values(by = 'number_of_purchases', ascending = False)\n",
    "count_purchase_stay_city_df\n",
    "\n"
   ]
  },
  {
   "cell_type": "code",
   "execution_count": 237,
   "id": "d4835140",
   "metadata": {},
   "outputs": [
    {
     "name": "stderr",
     "output_type": "stream",
     "text": [
      "/Users/ganesh_dhasade/opt/anaconda3/lib/python3.8/site-packages/seaborn/_decorators.py:36: FutureWarning: Pass the following variables as keyword args: x, y. From version 0.12, the only valid positional argument will be `data`, and passing other arguments without an explicit keyword will result in an error or misinterpretation.\n",
      "  warnings.warn(\n"
     ]
    },
    {
     "data": {
      "text/plain": [
       "<AxesSubplot:xlabel='stay_in_current_city_years', ylabel='number_of_purchases'>"
      ]
     },
     "execution_count": 237,
     "metadata": {},
     "output_type": "execute_result"
    },
    {
     "data": {
      "image/png": "[encoded data removed]",
      "text/plain": [
       "<Figure size 720x360 with 1 Axes>"
      ]
     },
     "metadata": {
      "needs_background": "light"
     },
     "output_type": "display_data"
    }
   ],
   "source": [
    "plt.figure(figsize=(10,5))\n",
    "sns.barplot('stay_in_current_city_years','number_of_purchases', data=count_purchase_stay_city_df, order=count_purchase_stay_city_df['stay_in_current_city_years'])\n"
   ]
  },
  {
   "cell_type": "code",
   "execution_count": null,
   "id": "bc0a0077",
   "metadata": {},
   "outputs": [],
   "source": [
    "### Q.7 What average spend by gender?"
   ]
  },
  {
   "cell_type": "code",
   "execution_count": null,
   "id": "c336c074",
   "metadata": {},
   "outputs": [],
   "source": []
  },
  {
   "cell_type": "code",
   "execution_count": null,
   "id": "e8eccf16",
   "metadata": {},
   "outputs": [],
   "source": [
    "### Q.8 What average spend on each category?"
   ]
  },
  {
   "cell_type": "code",
   "execution_count": null,
   "id": "e3c5d2ae",
   "metadata": {},
   "outputs": [],
   "source": []
  },
  {
   "cell_type": "code",
   "execution_count": null,
   "id": "36ab9082",
   "metadata": {},
   "outputs": [],
   "source": []
  },
  {
   "cell_type": "code",
   "execution_count": null,
   "id": "6569141b",
   "metadata": {},
   "outputs": [],
   "source": [
    "### Q.9 What average spend on each city?"
   ]
  },
  {
   "cell_type": "code",
   "execution_count": null,
   "id": "f25b757a",
   "metadata": {},
   "outputs": [],
   "source": []
  },
  {
   "cell_type": "code",
   "execution_count": null,
   "id": "0052c0f7",
   "metadata": {},
   "outputs": [],
   "source": []
  },
  {
   "cell_type": "code",
   "execution_count": null,
   "id": "97e50dfa",
   "metadata": {},
   "outputs": [],
   "source": [
    "### Q.10 What average spend on each occupation?"
   ]
  },
  {
   "cell_type": "code",
   "execution_count": null,
   "id": "cf6fb279",
   "metadata": {},
   "outputs": [],
   "source": []
  },
  {
   "cell_type": "code",
   "execution_count": null,
   "id": "15024cff",
   "metadata": {},
   "outputs": [],
   "source": [
    "### Q.10 Top 10 most sold products?"
   ]
  },
  {
   "cell_type": "code",
   "execution_count": null,
   "id": "532c6d93",
   "metadata": {},
   "outputs": [],
   "source": []
  },
  {
   "cell_type": "code",
   "execution_count": null,
   "id": "7f548bdd",
   "metadata": {},
   "outputs": [],
   "source": []
  },
  {
   "cell_type": "code",
   "execution_count": null,
   "id": "bdeb55f1",
   "metadata": {},
   "outputs": [],
   "source": [
    "### Q.11 Top 10 most expensive sold products?"
   ]
  },
  {
   "cell_type": "code",
   "execution_count": null,
   "id": "0277e4cf",
   "metadata": {},
   "outputs": [],
   "source": []
  },
  {
   "cell_type": "code",
   "execution_count": null,
   "id": "99cd321b",
   "metadata": {},
   "outputs": [],
   "source": [
    "### Q.12 Top 10 most popular sold products?"
   ]
  },
  {
   "cell_type": "code",
   "execution_count": null,
   "id": "e30cd1ac",
   "metadata": {},
   "outputs": [],
   "source": []
  },
  {
   "cell_type": "code",
   "execution_count": null,
   "id": "bb00364f",
   "metadata": {},
   "outputs": [],
   "source": []
  },
  {
   "cell_type": "code",
   "execution_count": null,
   "id": "39dfd700",
   "metadata": {},
   "outputs": [],
   "source": []
  },
  {
   "cell_type": "markdown",
   "id": "9c7d166b",
   "metadata": {},
   "source": [
    "### Observation: --- todo update\n",
    "- The tendency looks like the longest someone is living in that city the less prone they are to buy new things.\n",
    "- Hence, if someone is new in town and needs a great number of new things for their house that they’ll take advantage of the low prices in Black Friday to purchase all the things needed."
   ]
  },
  {
   "cell_type": "markdown",
   "id": "d34c9e17",
   "metadata": {},
   "source": [
    "### Conclusion - Results:"
   ]
  },
  {
   "cell_type": "markdown",
   "id": "208d53ff",
   "metadata": {},
   "source": [
    "#### Q.1 Which age group has purchased more number of products?\n",
    "\n",
    "- 1. Age and Purchase graph has a uniform distribution.\n",
    "- 2. Purchasing of men is slightly more in age-group 51-55."
   ]
  },
  {
   "cell_type": "markdown",
   "id": "01fa2c26",
   "metadata": {},
   "source": [
    "#### Q.2  Which product category has been sold most?\n",
    "\n",
    "- product_category_1 has been purchased more than product_category_2 and product_category_3."
   ]
  },
  {
   "cell_type": "markdown",
   "id": "d8382829",
   "metadata": {},
   "source": [
    "#### Q.3 Which city_category has more purchases? \n",
    "\n",
    " - B city_category has more number of counts hence it might represents the urban area where most of the population resides."
   ]
  },
  {
   "cell_type": "markdown",
   "id": "2de75ad4",
   "metadata": {},
   "source": [
    "#### Q.4 What will be the purchases with respect to staying in current city?\n",
    "\n",
    "- The tendency looks like the longest someone is living in that city the less prone they are to buy new things.\n",
    "- Hence, if someone is new in town and needs a great number of new things for their house that they’ll take advantage of the low prices in Black Friday to purchase all the things needed."
   ]
  }
 ],
 "metadata": {
  "kernelspec": {
   "display_name": "Python 3",
   "language": "python",
   "name": "python3"
  },
  "language_info": {
   "codemirror_mode": {
    "name": "ipython",
    "version": 3
   },
   "file_extension": ".py",
   "mimetype": "text/x-python",
   "name": "python",
   "nbconvert_exporter": "python",
   "pygments_lexer": "ipython3",
   "version": "3.8.8"
  }
 },
 "nbformat": 4,
 "nbformat_minor": 5
}
